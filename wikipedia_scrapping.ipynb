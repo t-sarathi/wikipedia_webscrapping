{
 "cells": [
  {
   "cell_type": "code",
   "execution_count": 192,
   "id": "d523d708-9661-450c-8fa7-ec901cb3c8d6",
   "metadata": {},
   "outputs": [],
   "source": [
    "import requests\n",
    "from bs4 import BeautifulSoup\n",
    "from tqdm import tqdm"
   ]
  },
  {
   "cell_type": "code",
   "execution_count": 193,
   "id": "d07b5df8-e364-4fc8-ac68-149ebfeb25ed",
   "metadata": {},
   "outputs": [
    {
     "name": "stdin",
     "output_type": "stream",
     "text": [
      "enter a topic Manomahan sing\n"
     ]
    }
   ],
   "source": [
    "topic=input('enter a topic')"
   ]
  },
  {
   "cell_type": "code",
   "execution_count": 194,
   "id": "3f6589c8-8aed-41d0-9994-39855d46b2dc",
   "metadata": {},
   "outputs": [
    {
     "name": "stderr",
     "output_type": "stream",
     "text": [
      " 12%|█▏        | 30/247 [00:00<00:00, 22550.02it/s]\n"
     ]
    }
   ],
   "source": [
    "link='https://www.google.com/search?q='+topic.replace(' ','+')+'+wikipedia'\n",
    "res1=requests.get(link)\n",
    "soup=BeautifulSoup(res1.text,'html.parser')\n",
    "\n",
    "for sp in tqdm(soup.find_all('div')):\n",
    "    try:\n",
    "        link=sp.find('a').get('href')\n",
    "        if ('en.wikipedia.org' in link):\n",
    "            link[7:].split('&')[0]            \n",
    "            break\n",
    "    except:\n",
    "        pass\n",
    "link=link[7:].split('&')[0]\n",
    "\n",
    "res = requests.get(link)\n",
    "soup = BeautifulSoup(res.text,'html.parser')\n",
    "heading = soup.find('h1').text\n",
    "\n",
    "corpus = ''\n",
    "for p in soup.find_all('p'):\n",
    "    corpus += p.text\n",
    "    corpus += '\\n'\n",
    "for i in range(1,5000):\n",
    "   corpus= corpus.replace('['+str(i)+']','') \n",
    "corpus = corpus.strip()\n",
    "\n",
    "#Save the extract as a text file\n",
    "fd = open(heading + '.txt', 'w',encoding='utf-8')\n",
    "fd.write(corpus)\n",
    "fd.close()"
   ]
  },
  {
   "cell_type": "code",
   "execution_count": null,
   "id": "8581ffb8-82af-44f2-a0f6-a86d69fd075c",
   "metadata": {},
   "outputs": [],
   "source": []
  },
  {
   "cell_type": "code",
   "execution_count": null,
   "id": "a9b8d08e-d550-4a96-9679-035038a063c2",
   "metadata": {},
   "outputs": [],
   "source": []
  },
  {
   "cell_type": "code",
   "execution_count": null,
   "id": "04a94087-211f-4950-b510-3e7a911273ee",
   "metadata": {},
   "outputs": [],
   "source": []
  },
  {
   "cell_type": "code",
   "execution_count": null,
   "id": "8aefb187-acb9-46d8-a4c9-4e18d5917905",
   "metadata": {},
   "outputs": [],
   "source": []
  },
  {
   "cell_type": "code",
   "execution_count": null,
   "id": "f638d42a-c61d-4016-ae17-dcfdbf3a149d",
   "metadata": {},
   "outputs": [],
   "source": []
  }
 ],
 "metadata": {
  "kernelspec": {
   "display_name": "Python 3 (ipykernel)",
   "language": "python",
   "name": "python3"
  },
  "language_info": {
   "codemirror_mode": {
    "name": "ipython",
    "version": 3
   },
   "file_extension": ".py",
   "mimetype": "text/x-python",
   "name": "python",
   "nbconvert_exporter": "python",
   "pygments_lexer": "ipython3",
   "version": "3.11.7"
  },
  "widgets": {
   "application/vnd.jupyter.widget-state+json": {
    "state": {},
    "version_major": 2,
    "version_minor": 0
   }
  }
 },
 "nbformat": 4,
 "nbformat_minor": 5
}
